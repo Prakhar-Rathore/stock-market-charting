{
 "cells": [
  {
   "cell_type": "markdown",
   "metadata": {
    "id": "beN2lpsZGKH8"
   },
   "source": [
    "# Stock Price Prediction"
   ]
  },
  {
   "cell_type": "markdown",
   "metadata": {
    "id": "HSuLuatvGp7y"
   },
   "source": [
    "##Part 1 - Data Preprocessing"
   ]
  },
  {
   "cell_type": "markdown",
   "metadata": {
    "id": "BUMPfJs3GxQl"
   },
   "source": [
    "###Importing the libraries"
   ]
  },
  {
   "cell_type": "code",
   "execution_count": 1,
   "metadata": {
    "id": "p5jpp9XLGfBW"
   },
   "outputs": [],
   "source": [
    "import numpy as np\n",
    "import matplotlib.pyplot as plt\n",
    "import pandas as pd\n",
    "import tensorflow as tf\n",
    "import yfinance as yf"
   ]
  },
  {
   "cell_type": "markdown",
   "metadata": {
    "id": "Fd9SBpLKHEHU"
   },
   "source": [
    "###Downloading the data from yfinance package for LT stock in NSE exchange"
   ]
  },
  {
   "cell_type": "code",
   "execution_count": 2,
   "metadata": {
    "id": "Z5Skcrw-Hbnk"
   },
   "outputs": [
    {
     "name": "stdout",
     "output_type": "stream",
     "text": [
      "[*********************100%***********************]  1 of 1 completed\n"
     ]
    }
   ],
   "source": [
    "data = yf.download(\"LT.NS\", start=\"2016-01-01\", end=\"2022-06-30\")"
   ]
  },
  {
   "cell_type": "markdown",
   "metadata": {
    "id": "ZoG1nCfJIi3I"
   },
   "source": [
    "###Preprocessing and storing the data"
   ]
  },
  {
   "cell_type": "code",
   "execution_count": 3,
   "metadata": {
    "id": "hJKRE2wLIkOI"
   },
   "outputs": [],
   "source": [
    "data.pop(\"Adj Close\")\n",
    "data[[\"Open\", \"High\", \"Low\", \"Close\"]] = data[[\"Open\", \"High\", \"Low\", \"Close\"]].round(2)\n",
    "data[\"Volume\"] = data[\"Volume\"].astype(float)\n",
    "data.to_csv(\"LT.csv\")"
   ]
  },
  {
   "cell_type": "markdown",
   "metadata": {
    "id": "qS1Y7SBRIzcF"
   },
   "source": [
    "###Importing the dataset from the saved file"
   ]
  },
  {
   "cell_type": "code",
   "execution_count": 4,
   "metadata": {
    "id": "c70lSI5eJTkl"
   },
   "outputs": [
    {
     "data": {
      "text/html": [
       "<div>\n",
       "<style scoped>\n",
       "    .dataframe tbody tr th:only-of-type {\n",
       "        vertical-align: middle;\n",
       "    }\n",
       "\n",
       "    .dataframe tbody tr th {\n",
       "        vertical-align: top;\n",
       "    }\n",
       "\n",
       "    .dataframe thead th {\n",
       "        text-align: right;\n",
       "    }\n",
       "</style>\n",
       "<table border=\"1\" class=\"dataframe\">\n",
       "  <thead>\n",
       "    <tr style=\"text-align: right;\">\n",
       "      <th></th>\n",
       "      <th>Open</th>\n",
       "      <th>High</th>\n",
       "      <th>Low</th>\n",
       "      <th>Close</th>\n",
       "      <th>Volume</th>\n",
       "    </tr>\n",
       "  </thead>\n",
       "  <tbody>\n",
       "    <tr>\n",
       "      <th>0</th>\n",
       "      <td>852.67</td>\n",
       "      <td>860.67</td>\n",
       "      <td>848.37</td>\n",
       "      <td>859.47</td>\n",
       "      <td>1127733.0</td>\n",
       "    </tr>\n",
       "    <tr>\n",
       "      <th>1</th>\n",
       "      <td>857.33</td>\n",
       "      <td>859.97</td>\n",
       "      <td>835.53</td>\n",
       "      <td>837.30</td>\n",
       "      <td>2767263.0</td>\n",
       "    </tr>\n",
       "    <tr>\n",
       "      <th>2</th>\n",
       "      <td>841.87</td>\n",
       "      <td>846.00</td>\n",
       "      <td>835.00</td>\n",
       "      <td>837.93</td>\n",
       "      <td>2470134.0</td>\n",
       "    </tr>\n",
       "    <tr>\n",
       "      <th>3</th>\n",
       "      <td>839.33</td>\n",
       "      <td>839.87</td>\n",
       "      <td>823.33</td>\n",
       "      <td>824.57</td>\n",
       "      <td>2728635.0</td>\n",
       "    </tr>\n",
       "    <tr>\n",
       "      <th>4</th>\n",
       "      <td>818.77</td>\n",
       "      <td>818.90</td>\n",
       "      <td>800.00</td>\n",
       "      <td>804.27</td>\n",
       "      <td>4689760.0</td>\n",
       "    </tr>\n",
       "  </tbody>\n",
       "</table>\n",
       "</div>"
      ],
      "text/plain": [
       "     Open    High     Low   Close     Volume\n",
       "0  852.67  860.67  848.37  859.47  1127733.0\n",
       "1  857.33  859.97  835.53  837.30  2767263.0\n",
       "2  841.87  846.00  835.00  837.93  2470134.0\n",
       "3  839.33  839.87  823.33  824.57  2728635.0\n",
       "4  818.77  818.90  800.00  804.27  4689760.0"
      ]
     },
     "execution_count": 4,
     "metadata": {},
     "output_type": "execute_result"
    }
   ],
   "source": [
    "df = pd.read_csv(\"LT.csv\")\n",
    "df.pop(\"Date\")\n",
    "df.head()"
   ]
  },
  {
   "cell_type": "code",
   "execution_count": 5,
   "metadata": {
    "id": "ZVeDeYw7JVh4"
   },
   "outputs": [
    {
     "data": {
      "text/html": [
       "<div>\n",
       "<style scoped>\n",
       "    .dataframe tbody tr th:only-of-type {\n",
       "        vertical-align: middle;\n",
       "    }\n",
       "\n",
       "    .dataframe tbody tr th {\n",
       "        vertical-align: top;\n",
       "    }\n",
       "\n",
       "    .dataframe thead th {\n",
       "        text-align: right;\n",
       "    }\n",
       "</style>\n",
       "<table border=\"1\" class=\"dataframe\">\n",
       "  <thead>\n",
       "    <tr style=\"text-align: right;\">\n",
       "      <th></th>\n",
       "      <th>count</th>\n",
       "      <th>mean</th>\n",
       "      <th>std</th>\n",
       "      <th>min</th>\n",
       "      <th>25%</th>\n",
       "      <th>50%</th>\n",
       "      <th>75%</th>\n",
       "      <th>max</th>\n",
       "    </tr>\n",
       "  </thead>\n",
       "  <tbody>\n",
       "    <tr>\n",
       "      <th>Open</th>\n",
       "      <td>1604.0</td>\n",
       "      <td>1.265379e+03</td>\n",
       "      <td>2.903348e+02</td>\n",
       "      <td>697.20</td>\n",
       "      <td>9.959925e+02</td>\n",
       "      <td>1295.000</td>\n",
       "      <td>1423.15</td>\n",
       "      <td>2075.65</td>\n",
       "    </tr>\n",
       "    <tr>\n",
       "      <th>High</th>\n",
       "      <td>1604.0</td>\n",
       "      <td>1.279320e+03</td>\n",
       "      <td>2.932668e+02</td>\n",
       "      <td>735.00</td>\n",
       "      <td>1.005000e+03</td>\n",
       "      <td>1305.275</td>\n",
       "      <td>1434.85</td>\n",
       "      <td>2078.55</td>\n",
       "    </tr>\n",
       "    <tr>\n",
       "      <th>Low</th>\n",
       "      <td>1604.0</td>\n",
       "      <td>1.250286e+03</td>\n",
       "      <td>2.878728e+02</td>\n",
       "      <td>661.00</td>\n",
       "      <td>9.852050e+02</td>\n",
       "      <td>1280.700</td>\n",
       "      <td>1407.20</td>\n",
       "      <td>2042.00</td>\n",
       "    </tr>\n",
       "    <tr>\n",
       "      <th>Close</th>\n",
       "      <td>1604.0</td>\n",
       "      <td>1.263990e+03</td>\n",
       "      <td>2.903575e+02</td>\n",
       "      <td>702.43</td>\n",
       "      <td>9.949525e+02</td>\n",
       "      <td>1292.100</td>\n",
       "      <td>1422.50</td>\n",
       "      <td>2069.40</td>\n",
       "    </tr>\n",
       "    <tr>\n",
       "      <th>Volume</th>\n",
       "      <td>1604.0</td>\n",
       "      <td>3.028140e+06</td>\n",
       "      <td>2.123486e+06</td>\n",
       "      <td>255086.00</td>\n",
       "      <td>1.777782e+06</td>\n",
       "      <td>2382452.000</td>\n",
       "      <td>3603295.00</td>\n",
       "      <td>21153346.00</td>\n",
       "    </tr>\n",
       "  </tbody>\n",
       "</table>\n",
       "</div>"
      ],
      "text/plain": [
       "         count          mean           std        min           25%  \\\n",
       "Open    1604.0  1.265379e+03  2.903348e+02     697.20  9.959925e+02   \n",
       "High    1604.0  1.279320e+03  2.932668e+02     735.00  1.005000e+03   \n",
       "Low     1604.0  1.250286e+03  2.878728e+02     661.00  9.852050e+02   \n",
       "Close   1604.0  1.263990e+03  2.903575e+02     702.43  9.949525e+02   \n",
       "Volume  1604.0  3.028140e+06  2.123486e+06  255086.00  1.777782e+06   \n",
       "\n",
       "                50%         75%          max  \n",
       "Open       1295.000     1423.15      2075.65  \n",
       "High       1305.275     1434.85      2078.55  \n",
       "Low        1280.700     1407.20      2042.00  \n",
       "Close      1292.100     1422.50      2069.40  \n",
       "Volume  2382452.000  3603295.00  21153346.00  "
      ]
     },
     "execution_count": 5,
     "metadata": {},
     "output_type": "execute_result"
    }
   ],
   "source": [
    "df.describe().transpose()"
   ]
  },
  {
   "cell_type": "markdown",
   "metadata": {
    "id": "lYsk5Zi3JgKX"
   },
   "source": [
    "###Splitting into train set and test set"
   ]
  },
  {
   "cell_type": "code",
   "execution_count": 6,
   "metadata": {
    "id": "kloOu6MlJlT1"
   },
   "outputs": [],
   "source": [
    "n = len(df)\n",
    "train_df = df[0:int(n*0.9)]\n",
    "test_df = df[int(n*0.1):]"
   ]
  },
  {
   "cell_type": "markdown",
   "metadata": {
    "id": "rxs9QSEeJpi6"
   },
   "source": [
    "###Standardization"
   ]
  },
  {
   "cell_type": "code",
   "execution_count": 7,
   "metadata": {
    "id": "Lw4Avv8iJsMI"
   },
   "outputs": [],
   "source": [
    "train_mean = train_df.mean()\n",
    "train_std = train_df.std()\n",
    "\n",
    "train_df_scaled = (train_df - train_mean) / train_std\n",
    "test_df_scaled = (test_df - train_mean) / train_std\n",
    "\n",
    "#convert to numpy values\n",
    "train_set_scaled = train_df_scaled.values\n",
    "test_set_scaled = test_df_scaled.values"
   ]
  },
  {
   "cell_type": "markdown",
   "metadata": {
    "id": "ce9f-oJfJz5M"
   },
   "source": [
    "###Forming training and testing data structures"
   ]
  },
  {
   "cell_type": "code",
   "execution_count": 8,
   "metadata": {
    "id": "VATNr8NfKN0k"
   },
   "outputs": [],
   "source": [
    "IN_STEPS = 60\n",
    "OUT_STEPS = 21\n",
    "#1st output is equal to the last input. We will use this to modify the model's predictions to reduce gaps caused by extrapolation"
   ]
  },
  {
   "cell_type": "code",
   "execution_count": 9,
   "metadata": {
    "id": "i3wGbMA-KCv9"
   },
   "outputs": [],
   "source": [
    "def get_input_output_arr(scaled_np_arr, in_steps, out_steps):\n",
    "    X = []\n",
    "    Y = []\n",
    "\n",
    "    for i in range(in_steps+out_steps-1, len(scaled_np_arr)):\n",
    "        X.append(scaled_np_arr[i-(in_steps+out_steps-1):i-out_steps+1, :])\n",
    "        Y.append(scaled_np_arr[i-out_steps:i,0])\n",
    "    \n",
    "    return np.array(X), np.array(Y)"
   ]
  },
  {
   "cell_type": "code",
   "execution_count": 10,
   "metadata": {
    "id": "IB13SCgjKERl"
   },
   "outputs": [],
   "source": [
    "X_train, Y_train = get_input_output_arr(train_set_scaled, IN_STEPS, OUT_STEPS)\n",
    "X_test, Y_test = get_input_output_arr(test_set_scaled, IN_STEPS, OUT_STEPS)"
   ]
  },
  {
   "cell_type": "markdown",
   "metadata": {
    "id": "UgcfTrrsK8Yw"
   },
   "source": [
    "##Part 2 - Building, training and evaluating the models"
   ]
  },
  {
   "cell_type": "markdown",
   "metadata": {
    "id": "7LMelYduSVPT"
   },
   "source": [
    "### Importing the Keras libraries and packages"
   ]
  },
  {
   "cell_type": "code",
   "execution_count": 11,
   "metadata": {
    "id": "PLmiDciqSbkB"
   },
   "outputs": [],
   "source": [
    "from tensorflow.keras.models import Sequential\n",
    "from tensorflow.keras.layers import Dense\n",
    "from tensorflow.keras.layers import LSTM\n",
    "from tensorflow.keras.layers import Lambda\n",
    "from tensorflow.keras.layers import Dropout"
   ]
  },
  {
   "cell_type": "markdown",
   "metadata": {
    "id": "8J_bKp57MMCs"
   },
   "source": [
    "A custom metric - 'custom_accuracy'.\n",
    "A prediction scores 1 (or is said to be correct) if the model successfully estimated whether the price would go up or down."
   ]
  },
  {
   "cell_type": "code",
   "execution_count": 12,
   "metadata": {
    "id": "z4v6qcVXM0Rg"
   },
   "outputs": [],
   "source": [
    "def custom_accuracy(y_true, y_pred):\n",
    "    \n",
    "    correct = 0\n",
    "    \n",
    "    #for the entire batch\n",
    "    for i in range(len(y_true)):\n",
    "        y_t = y_true[i]\n",
    "        y_p = y_pred[i]\n",
    "        start_true = y_t[0]\n",
    "        end_true = y_t[-1]\n",
    "        start_pred = y_p[0]\n",
    "        end_pred = y_p[-1]\n",
    "    \n",
    "        if (((end_true >= start_true) and (end_pred >= start_pred)) or ((end_true <= start_true) and (end_pred <= start_pred))):\n",
    "            correct += 1\n",
    "    return correct/len(y_true)"
   ]
  },
  {
   "cell_type": "markdown",
   "metadata": {
    "id": "8XdLUMlVPYvz"
   },
   "source": [
    "Initializing a dictionary to store the performance of the models"
   ]
  },
  {
   "cell_type": "code",
   "execution_count": 13,
   "metadata": {
    "id": "GMVm_BEWPddd"
   },
   "outputs": [],
   "source": [
    "performance = {}"
   ]
  },
  {
   "cell_type": "markdown",
   "metadata": {
    "id": "6FVBUrnqLIjJ"
   },
   "source": [
    "###Baseline Model"
   ]
  },
  {
   "cell_type": "markdown",
   "metadata": {
    "id": "cBO9uOFiLNj0"
   },
   "source": [
    "A simple baseline is to repeat the input sequence. That is, whatever happened will repeat itself. That is, prices of the next x days = prices of the first x days in the output sequence."
   ]
  },
  {
   "cell_type": "code",
   "execution_count": 14,
   "metadata": {
    "id": "1mSQPW-AL654"
   },
   "outputs": [
    {
     "name": "stdout",
     "output_type": "stream",
     "text": [
      "Metal device set to: Apple M1\n"
     ]
    },
    {
     "name": "stderr",
     "output_type": "stream",
     "text": [
      "2022-07-20 17:24:49.381935: I tensorflow/core/common_runtime/pluggable_device/pluggable_device_factory.cc:305] Could not identify NUMA node of platform GPU ID 0, defaulting to 0. Your kernel may not have been built with NUMA support.\n",
      "2022-07-20 17:24:49.382030: I tensorflow/core/common_runtime/pluggable_device/pluggable_device_factory.cc:271] Created TensorFlow device (/job:localhost/replica:0/task:0/device:GPU:0 with 0 MB memory) -> physical PluggableDevice (device: 0, name: METAL, pci bus id: <undefined>)\n"
     ]
    }
   ],
   "source": [
    "class RepeatBaseline(tf.keras.Model):\n",
    "  def call(self, inputs):\n",
    "    outputs = inputs[:, :(OUT_STEPS), 0]\n",
    "    return outputs\n",
    "\n",
    "repeat_baseline = RepeatBaseline()"
   ]
  },
  {
   "cell_type": "markdown",
   "metadata": {
    "id": "I_XnGQebMDC9"
   },
   "source": [
    "###Compiling and fitting to training set"
   ]
  },
  {
   "cell_type": "code",
   "execution_count": 15,
   "metadata": {
    "id": "l8NAlWFSMGyB"
   },
   "outputs": [],
   "source": [
    "def compile_and_fit(model, X_train, Y_train):\n",
    "    model.compile(optimizer='adam', loss='mean_squared_error', metrics = [custom_accuracy])\n",
    "    model.fit(X_train, Y_train, epochs=25, batch_size=32)"
   ]
  },
  {
   "cell_type": "code",
   "execution_count": 16,
   "metadata": {
    "id": "sCnoT03WNAGA"
   },
   "outputs": [
    {
     "name": "stdout",
     "output_type": "stream",
     "text": [
      "Epoch 1/25\n"
     ]
    },
    {
     "name": "stderr",
     "output_type": "stream",
     "text": [
      "2022-07-20 17:24:49.509216: W tensorflow/core/platform/profile_utils/cpu_utils.cc:128] Failed to get CPU frequency: 0 Hz\n",
      "2022-07-20 17:24:49.673960: I tensorflow/core/grappler/optimizers/custom_graph_optimizer_registry.cc:113] Plugin optimizer for device_type GPU is enabled.\n"
     ]
    },
    {
     "name": "stdout",
     "output_type": "stream",
     "text": [
      "43/43 [==============================] - 1s 19ms/step - loss: 0.4764 - custom_accuracy: 0.5457\n",
      "Epoch 2/25\n",
      "43/43 [==============================] - 1s 18ms/step - loss: 0.4764 - custom_accuracy: 0.5432\n",
      "Epoch 3/25\n",
      "43/43 [==============================] - 1s 19ms/step - loss: 0.4764 - custom_accuracy: 0.5462\n",
      "Epoch 4/25\n",
      "43/43 [==============================] - 1s 19ms/step - loss: 0.4764 - custom_accuracy: 0.5452\n",
      "Epoch 5/25\n",
      "43/43 [==============================] - 1s 19ms/step - loss: 0.4764 - custom_accuracy: 0.5452\n",
      "Epoch 6/25\n",
      "43/43 [==============================] - 1s 18ms/step - loss: 0.4764 - custom_accuracy: 0.5457\n",
      "Epoch 7/25\n",
      "43/43 [==============================] - 1s 33ms/step - loss: 0.4764 - custom_accuracy: 0.5427\n",
      "Epoch 8/25\n",
      "43/43 [==============================] - 1s 18ms/step - loss: 0.4764 - custom_accuracy: 0.5457\n",
      "Epoch 9/25\n",
      "43/43 [==============================] - 1s 18ms/step - loss: 0.4764 - custom_accuracy: 0.5417\n",
      "Epoch 10/25\n",
      "43/43 [==============================] - 1s 17ms/step - loss: 0.4764 - custom_accuracy: 0.5442\n",
      "Epoch 11/25\n",
      "43/43 [==============================] - 1s 22ms/step - loss: 0.4764 - custom_accuracy: 0.5442\n",
      "Epoch 12/25\n",
      "43/43 [==============================] - 1s 20ms/step - loss: 0.4764 - custom_accuracy: 0.5442\n",
      "Epoch 13/25\n",
      "43/43 [==============================] - 1s 23ms/step - loss: 0.4764 - custom_accuracy: 0.5427\n",
      "Epoch 14/25\n",
      "43/43 [==============================] - 1s 33ms/step - loss: 0.4764 - custom_accuracy: 0.5437\n",
      "Epoch 15/25\n",
      "43/43 [==============================] - 1s 29ms/step - loss: 0.4764 - custom_accuracy: 0.5437\n",
      "Epoch 16/25\n",
      "43/43 [==============================] - 1s 19ms/step - loss: 0.4764 - custom_accuracy: 0.5432\n",
      "Epoch 17/25\n",
      "43/43 [==============================] - 1s 19ms/step - loss: 0.4764 - custom_accuracy: 0.5452\n",
      "Epoch 18/25\n",
      "43/43 [==============================] - 1s 18ms/step - loss: 0.4764 - custom_accuracy: 0.5442\n",
      "Epoch 19/25\n",
      "43/43 [==============================] - 1s 18ms/step - loss: 0.4764 - custom_accuracy: 0.5442\n",
      "Epoch 20/25\n",
      "43/43 [==============================] - 1s 18ms/step - loss: 0.4764 - custom_accuracy: 0.5447\n",
      "Epoch 21/25\n",
      "43/43 [==============================] - 1s 18ms/step - loss: 0.4764 - custom_accuracy: 0.5437\n",
      "Epoch 22/25\n",
      "43/43 [==============================] - 1s 17ms/step - loss: 0.4764 - custom_accuracy: 0.5442\n",
      "Epoch 23/25\n",
      "43/43 [==============================] - 1s 19ms/step - loss: 0.4764 - custom_accuracy: 0.5452\n",
      "Epoch 24/25\n",
      "43/43 [==============================] - 1s 18ms/step - loss: 0.4764 - custom_accuracy: 0.5437\n",
      "Epoch 25/25\n",
      "43/43 [==============================] - 1s 21ms/step - loss: 0.4764 - custom_accuracy: 0.5462\n"
     ]
    }
   ],
   "source": [
    "compile_and_fit(repeat_baseline, X_train, Y_train)"
   ]
  },
  {
   "cell_type": "markdown",
   "metadata": {
    "id": "HrWKo74TPfRP"
   },
   "source": [
    "###Evaluation"
   ]
  },
  {
   "cell_type": "code",
   "execution_count": 17,
   "metadata": {
    "id": "hz3S_t5OPg1l"
   },
   "outputs": [
    {
     "name": "stdout",
     "output_type": "stream",
     "text": [
      " 4/43 [=>............................] - ETA: 0s - loss: 0.2785 - custom_accuracy: 0.5391"
     ]
    },
    {
     "name": "stderr",
     "output_type": "stream",
     "text": [
      "2022-07-20 17:25:11.825215: I tensorflow/core/grappler/optimizers/custom_graph_optimizer_registry.cc:113] Plugin optimizer for device_type GPU is enabled.\n"
     ]
    },
    {
     "name": "stdout",
     "output_type": "stream",
     "text": [
      "43/43 [==============================] - 1s 20ms/step - loss: 0.5164 - custom_accuracy: 0.5496\n"
     ]
    }
   ],
   "source": [
    "performance['Baseline'] = repeat_baseline.evaluate(X_test, Y_test)"
   ]
  },
  {
   "cell_type": "markdown",
   "metadata": {
    "id": "gs8X3wLQNXVc"
   },
   "source": [
    "###Simple ANN with 4 Dense layers stacked"
   ]
  },
  {
   "cell_type": "code",
   "execution_count": 18,
   "metadata": {
    "id": "vwQ6rMAWNj1_"
   },
   "outputs": [],
   "source": [
    "ann_model = tf.keras.Sequential([\n",
    "    Lambda(lambda x: x[:, -1, :]),\n",
    "    Dense(units=50, activation='relu'),\n",
    "    Dense(units=50, activation='relu'),\n",
    "    Dense(units=50, activation='relu'),\n",
    "    Dense(units=50, activation='relu'),\n",
    "    Dense(units=21)\n",
    "])"
   ]
  },
  {
   "cell_type": "markdown",
   "metadata": {
    "id": "GY-iShHuNllt"
   },
   "source": [
    "###Compiling and fitting to training set"
   ]
  },
  {
   "cell_type": "code",
   "execution_count": 19,
   "metadata": {
    "id": "1PAniTtSNqU4"
   },
   "outputs": [
    {
     "name": "stdout",
     "output_type": "stream",
     "text": [
      "Epoch 1/25\n"
     ]
    },
    {
     "name": "stderr",
     "output_type": "stream",
     "text": [
      "2022-07-20 17:25:13.056957: I tensorflow/core/grappler/optimizers/custom_graph_optimizer_registry.cc:113] Plugin optimizer for device_type GPU is enabled.\n"
     ]
    },
    {
     "name": "stdout",
     "output_type": "stream",
     "text": [
      "43/43 [==============================] - 1s 23ms/step - loss: 0.5117 - custom_accuracy: 0.5769\n",
      "Epoch 2/25\n",
      "43/43 [==============================] - 1s 21ms/step - loss: 0.0888 - custom_accuracy: 0.4844\n",
      "Epoch 3/25\n",
      "43/43 [==============================] - 1s 21ms/step - loss: 0.0701 - custom_accuracy: 0.5566\n",
      "Epoch 4/25\n",
      "43/43 [==============================] - 1s 20ms/step - loss: 0.0687 - custom_accuracy: 0.5507\n",
      "Epoch 5/25\n",
      "43/43 [==============================] - 1s 21ms/step - loss: 0.0692 - custom_accuracy: 0.5784\n",
      "Epoch 6/25\n",
      "43/43 [==============================] - 1s 21ms/step - loss: 0.0685 - custom_accuracy: 0.5617\n",
      "Epoch 7/25\n",
      "43/43 [==============================] - 1s 21ms/step - loss: 0.0680 - custom_accuracy: 0.5702\n",
      "Epoch 8/25\n",
      "43/43 [==============================] - 1s 22ms/step - loss: 0.0677 - custom_accuracy: 0.5762\n",
      "Epoch 9/25\n",
      "43/43 [==============================] - 1s 21ms/step - loss: 0.0680 - custom_accuracy: 0.5856\n",
      "Epoch 10/25\n",
      "43/43 [==============================] - 1s 20ms/step - loss: 0.0676 - custom_accuracy: 0.5845\n",
      "Epoch 11/25\n",
      "43/43 [==============================] - 1s 21ms/step - loss: 0.0681 - custom_accuracy: 0.5922\n",
      "Epoch 12/25\n",
      "43/43 [==============================] - 1s 21ms/step - loss: 0.0678 - custom_accuracy: 0.5818\n",
      "Epoch 13/25\n",
      "43/43 [==============================] - 1s 20ms/step - loss: 0.0672 - custom_accuracy: 0.5951\n",
      "Epoch 14/25\n",
      "43/43 [==============================] - 1s 21ms/step - loss: 0.0674 - custom_accuracy: 0.5893\n",
      "Epoch 15/25\n",
      "43/43 [==============================] - 1s 19ms/step - loss: 0.0667 - custom_accuracy: 0.5997\n",
      "Epoch 16/25\n",
      "43/43 [==============================] - 1s 19ms/step - loss: 0.0664 - custom_accuracy: 0.5864\n",
      "Epoch 17/25\n",
      "43/43 [==============================] - 1s 22ms/step - loss: 0.0670 - custom_accuracy: 0.5952\n",
      "Epoch 18/25\n",
      "43/43 [==============================] - 2s 39ms/step - loss: 0.0664 - custom_accuracy: 0.6065\n",
      "Epoch 19/25\n",
      "43/43 [==============================] - 2s 38ms/step - loss: 0.0662 - custom_accuracy: 0.5946\n",
      "Epoch 20/25\n",
      "43/43 [==============================] - 1s 22ms/step - loss: 0.0656 - custom_accuracy: 0.6034\n",
      "Epoch 21/25\n",
      "43/43 [==============================] - 1s 34ms/step - loss: 0.0655 - custom_accuracy: 0.5999\n",
      "Epoch 22/25\n",
      "43/43 [==============================] - 1s 33ms/step - loss: 0.0657 - custom_accuracy: 0.6043\n",
      "Epoch 23/25\n",
      "43/43 [==============================] - 1s 26ms/step - loss: 0.0652 - custom_accuracy: 0.6024\n",
      "Epoch 24/25\n",
      "43/43 [==============================] - 1s 25ms/step - loss: 0.0659 - custom_accuracy: 0.5900\n",
      "Epoch 25/25\n",
      "43/43 [==============================] - 1s 24ms/step - loss: 0.0647 - custom_accuracy: 0.6131\n"
     ]
    }
   ],
   "source": [
    "compile_and_fit(ann_model, X_train, Y_train)"
   ]
  },
  {
   "cell_type": "markdown",
   "metadata": {
    "id": "rMaXwxwQPnSA"
   },
   "source": [
    "###Evaluation"
   ]
  },
  {
   "cell_type": "code",
   "execution_count": 20,
   "metadata": {
    "id": "fcFC8vHPPoxZ"
   },
   "outputs": [
    {
     "name": "stdout",
     "output_type": "stream",
     "text": [
      "\r\n",
      " 1/43 [..............................] - ETA: 10s - loss: 0.0114 - custom_accuracy: 0.7500"
     ]
    },
    {
     "name": "stderr",
     "output_type": "stream",
     "text": [
      "2022-07-20 17:25:39.166123: I tensorflow/core/grappler/optimizers/custom_graph_optimizer_registry.cc:113] Plugin optimizer for device_type GPU is enabled.\n"
     ]
    },
    {
     "name": "stdout",
     "output_type": "stream",
     "text": [
      "43/43 [==============================] - 1s 25ms/step - loss: 0.0783 - custom_accuracy: 0.6314\n"
     ]
    }
   ],
   "source": [
    "performance['ANN'] = ann_model.evaluate(X_test, Y_test)"
   ]
  },
  {
   "cell_type": "markdown",
   "metadata": {
    "id": "jyaApnugN4Y3"
   },
   "source": [
    "### A neural network with 4 LSTM layers"
   ]
  },
  {
   "cell_type": "code",
   "execution_count": 21,
   "metadata": {
    "id": "D8-7TBNGOJ8H"
   },
   "outputs": [],
   "source": [
    "lstm_model = tf.keras.Sequential([\n",
    "    LSTM(units=50, return_sequences = True, input_shape = (X_train.shape[1], X_train.shape[2])),\n",
    "    Dropout(0.3),\n",
    "    LSTM(units = 50, return_sequences = True),\n",
    "    Dropout(0.3),\n",
    "    LSTM(units = 50, return_sequences = True),\n",
    "    Dropout(0.3),\n",
    "    LSTM(units = 50),\n",
    "    Dropout(0.3),\n",
    "    Dense(units = OUT_STEPS)\n",
    "])"
   ]
  },
  {
   "cell_type": "markdown",
   "metadata": {
    "id": "F_eGEcVtO7eX"
   },
   "source": [
    "###Compiling and fitting to training set"
   ]
  },
  {
   "cell_type": "code",
   "execution_count": 22,
   "metadata": {
    "id": "1SLwnIdfO8RK"
   },
   "outputs": [
    {
     "name": "stdout",
     "output_type": "stream",
     "text": [
      "Epoch 1/25\n"
     ]
    },
    {
     "name": "stderr",
     "output_type": "stream",
     "text": [
      "2022-07-20 17:25:42.610838: I tensorflow/core/grappler/optimizers/custom_graph_optimizer_registry.cc:113] Plugin optimizer for device_type GPU is enabled.\n",
      "2022-07-20 17:25:43.085015: I tensorflow/core/grappler/optimizers/custom_graph_optimizer_registry.cc:113] Plugin optimizer for device_type GPU is enabled.\n",
      "2022-07-20 17:25:43.234380: I tensorflow/core/grappler/optimizers/custom_graph_optimizer_registry.cc:113] Plugin optimizer for device_type GPU is enabled.\n",
      "2022-07-20 17:25:43.341030: I tensorflow/core/grappler/optimizers/custom_graph_optimizer_registry.cc:113] Plugin optimizer for device_type GPU is enabled.\n",
      "2022-07-20 17:25:43.444072: I tensorflow/core/grappler/optimizers/custom_graph_optimizer_registry.cc:113] Plugin optimizer for device_type GPU is enabled.\n",
      "2022-07-20 17:25:43.602186: I tensorflow/core/grappler/optimizers/custom_graph_optimizer_registry.cc:113] Plugin optimizer for device_type GPU is enabled.\n",
      "2022-07-20 17:25:43.822035: I tensorflow/core/grappler/optimizers/custom_graph_optimizer_registry.cc:113] Plugin optimizer for device_type GPU is enabled.\n",
      "2022-07-20 17:25:44.025446: I tensorflow/core/grappler/optimizers/custom_graph_optimizer_registry.cc:113] Plugin optimizer for device_type GPU is enabled.\n",
      "2022-07-20 17:25:44.220653: I tensorflow/core/grappler/optimizers/custom_graph_optimizer_registry.cc:113] Plugin optimizer for device_type GPU is enabled.\n"
     ]
    },
    {
     "name": "stdout",
     "output_type": "stream",
     "text": [
      "43/43 [==============================] - 9s 116ms/step - loss: 0.4110 - custom_accuracy: 0.5052\n",
      "Epoch 2/25\n",
      "43/43 [==============================] - 4s 101ms/step - loss: 0.1768 - custom_accuracy: 0.5307\n",
      "Epoch 3/25\n",
      "43/43 [==============================] - 4s 95ms/step - loss: 0.1374 - custom_accuracy: 0.5156\n",
      "Epoch 4/25\n",
      "43/43 [==============================] - 3s 82ms/step - loss: 0.1162 - custom_accuracy: 0.5190\n",
      "Epoch 5/25\n",
      "43/43 [==============================] - 4s 101ms/step - loss: 0.1050 - custom_accuracy: 0.5695\n",
      "Epoch 6/25\n",
      "43/43 [==============================] - 4s 100ms/step - loss: 0.0937 - custom_accuracy: 0.5869\n",
      "Epoch 7/25\n",
      "43/43 [==============================] - 4s 103ms/step - loss: 0.0859 - custom_accuracy: 0.5672\n",
      "Epoch 8/25\n",
      "43/43 [==============================] - 4s 104ms/step - loss: 0.0815 - custom_accuracy: 0.5959\n",
      "Epoch 9/25\n",
      "43/43 [==============================] - 5s 105ms/step - loss: 0.0717 - custom_accuracy: 0.6341\n",
      "Epoch 10/25\n",
      "43/43 [==============================] - 5s 106ms/step - loss: 0.0687 - custom_accuracy: 0.6639\n",
      "Epoch 11/25\n",
      "43/43 [==============================] - 3s 77ms/step - loss: 0.0537 - custom_accuracy: 0.6734\n",
      "Epoch 12/25\n",
      "43/43 [==============================] - 3s 80ms/step - loss: 0.0476 - custom_accuracy: 0.7032\n",
      "Epoch 13/25\n",
      "43/43 [==============================] - 4s 84ms/step - loss: 0.0463 - custom_accuracy: 0.7070\n",
      "Epoch 14/25\n",
      "43/43 [==============================] - 3s 81ms/step - loss: 0.0467 - custom_accuracy: 0.7274\n",
      "Epoch 15/25\n",
      "43/43 [==============================] - 4s 85ms/step - loss: 0.0408 - custom_accuracy: 0.7388\n",
      "Epoch 16/25\n",
      "43/43 [==============================] - 4s 85ms/step - loss: 0.0398 - custom_accuracy: 0.7456\n",
      "Epoch 17/25\n",
      "43/43 [==============================] - 4s 88ms/step - loss: 0.0367 - custom_accuracy: 0.7456\n",
      "Epoch 18/25\n",
      "43/43 [==============================] - 4s 87ms/step - loss: 0.0329 - custom_accuracy: 0.7606\n",
      "Epoch 19/25\n",
      "43/43 [==============================] - 4s 87ms/step - loss: 0.0331 - custom_accuracy: 0.7608\n",
      "Epoch 20/25\n",
      "43/43 [==============================] - 4s 84ms/step - loss: 0.0317 - custom_accuracy: 0.7618\n",
      "Epoch 21/25\n",
      "43/43 [==============================] - 4s 86ms/step - loss: 0.0294 - custom_accuracy: 0.7902\n",
      "Epoch 22/25\n",
      "43/43 [==============================] - 4s 86ms/step - loss: 0.0270 - custom_accuracy: 0.7764\n",
      "Epoch 23/25\n",
      "43/43 [==============================] - 4s 86ms/step - loss: 0.0251 - custom_accuracy: 0.7999\n",
      "Epoch 24/25\n",
      "43/43 [==============================] - 4s 88ms/step - loss: 0.0236 - custom_accuracy: 0.7870\n",
      "Epoch 25/25\n",
      "43/43 [==============================] - 4s 87ms/step - loss: 0.0241 - custom_accuracy: 0.7977\n"
     ]
    }
   ],
   "source": [
    "compile_and_fit(lstm_model, X_train, Y_train)"
   ]
  },
  {
   "cell_type": "markdown",
   "metadata": {
    "id": "s3EMuZlIP72-"
   },
   "source": [
    "###Evaluation"
   ]
  },
  {
   "cell_type": "code",
   "execution_count": 23,
   "metadata": {
    "id": "7X7HnLGTP9WS"
   },
   "outputs": [
    {
     "name": "stderr",
     "output_type": "stream",
     "text": [
      "2022-07-20 17:27:23.122036: I tensorflow/core/grappler/optimizers/custom_graph_optimizer_registry.cc:113] Plugin optimizer for device_type GPU is enabled.\n",
      "2022-07-20 17:27:23.295110: I tensorflow/core/grappler/optimizers/custom_graph_optimizer_registry.cc:113] Plugin optimizer for device_type GPU is enabled.\n",
      "2022-07-20 17:27:23.400823: I tensorflow/core/grappler/optimizers/custom_graph_optimizer_registry.cc:113] Plugin optimizer for device_type GPU is enabled.\n",
      "2022-07-20 17:27:23.497081: I tensorflow/core/grappler/optimizers/custom_graph_optimizer_registry.cc:113] Plugin optimizer for device_type GPU is enabled.\n",
      "2022-07-20 17:27:23.591132: I tensorflow/core/grappler/optimizers/custom_graph_optimizer_registry.cc:113] Plugin optimizer for device_type GPU is enabled.\n"
     ]
    },
    {
     "name": "stdout",
     "output_type": "stream",
     "text": [
      "43/43 [==============================] - 4s 65ms/step - loss: 0.0480 - custom_accuracy: 0.7719\n"
     ]
    }
   ],
   "source": [
    "performance['LSTM'] = lstm_model.evaluate(X_test, Y_test)"
   ]
  },
  {
   "cell_type": "markdown",
   "metadata": {
    "id": "mcYkced8QkUX"
   },
   "source": [
    "## Part 3- Comparing the performances through a plot"
   ]
  },
  {
   "cell_type": "code",
   "execution_count": 24,
   "metadata": {
    "id": "k6UdWsfHRC8s"
   },
   "outputs": [
    {
     "data": {
      "image/png": "[encoded data removed]",
      "text/plain": [
       "<Figure size 432x288 with 1 Axes>"
      ]
     },
     "metadata": {
      "needs_background": "light"
     },
     "output_type": "display_data"
    }
   ],
   "source": [
    "x = np.arange(len(performance))\n",
    "width = 0.2\n",
    "\n",
    "metric_name = 'custom_accuracy'\n",
    "metric_index = lstm_model.metrics_names.index('custom_accuracy')\n",
    "test_acc = [v[metric_index] for v in performance.values()]\n",
    "\n",
    "plt.bar(x, test_acc, width, label='Test', color=\"orange\")\n",
    "plt.xticks(ticks=x, labels=performance.keys(),\n",
    "           rotation=45)\n",
    "plt.ylabel(f'Custom Accuracy')\n",
    "_ = plt.legend()"
   ]
  },
  {
   "cell_type": "code",
   "execution_count": 25,
   "metadata": {},
   "outputs": [
    {
     "name": "stdout",
     "output_type": "stream",
     "text": [
      "{'Baseline': [0.5163539052009583, 0.5495639443397522], 'ANN': [0.07832185924053192, 0.6313953399658203], 'LSTM': [0.04796585068106651, 0.7719476222991943]}\n"
     ]
    }
   ],
   "source": [
    "print(performance)"
   ]
  },
  {
   "cell_type": "code",
   "execution_count": 26,
   "metadata": {},
   "outputs": [
    {
     "name": "stdout",
     "output_type": "stream",
     "text": [
      "1\n"
     ]
    }
   ],
   "source": [
    "print(metric_index)"
   ]
  },
  {
   "cell_type": "code",
   "execution_count": null,
   "metadata": {},
   "outputs": [],
   "source": []
  }
 ],
 "metadata": {
  "colab": {
   "collapsed_sections": [],
   "name": "Predictions.ipynb",
   "provenance": []
  },
  "kernelspec": {
   "display_name": "Python 3.8.9 64-bit",
   "language": "python",
   "name": "python3"
  },
  "language_info": {
   "codemirror_mode": {
    "name": "ipython",
    "version": 3
   },
   "file_extension": ".py",
   "mimetype": "text/x-python",
   "name": "python",
   "nbconvert_exporter": "python",
   "pygments_lexer": "ipython3",
   "version": "3.8.9"
  },
  "vscode": {
   "interpreter": {
    "hash": "31f2aee4e71d21fbe5cf8b01ff0e069b9275f58929596ceb00d14d90e3e16cd6"
   }
  }
 },
 "nbformat": 4,
 "nbformat_minor": 1
}
